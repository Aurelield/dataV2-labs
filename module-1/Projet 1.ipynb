{
 "cells": [
  {
   "cell_type": "code",
   "execution_count": 27,
   "metadata": {},
   "outputs": [
    {
     "name": "stdout",
     "output_type": "stream",
     "text": [
      "(([11, 222], [3, 899]), ([5, 24], [46, 67]))\n"
     ]
    }
   ],
   "source": [
    "# fonction de division \n",
    "def division(lst):\n",
    "    l_len = len(lst)\n",
    "    if l_len == 0:\n",
    "        raise ValueError\n",
    "    elif l_len == 1:\n",
    "        return lst\n",
    "    elif l_len == 2:\n",
    "        if lst[0] <= lst[1]:\n",
    "            return lst\n",
    "        elif lst[0] > lst[1]:\n",
    "            lst[0], lst[1] = lst[1], lst[0]\n",
    "            return lst\n",
    "    else:\n",
    "        l_left = lst[:l_len//2]\n",
    "        l_right = lst[l_len//2:]\n",
    "        return division(l_left), division(l_right)      \n",
    "\n",
    "\n",
    "\n"
   ]
  },
  {
   "cell_type": "code",
   "execution_count": 30,
   "metadata": {},
   "outputs": [
    {
     "name": "stdout",
     "output_type": "stream",
     "text": [
      "(([11, 222], [3, 899]), ([5, 24], [46, 67]))\n"
     ]
    }
   ],
   "source": [
    "def division(lst):\n",
    "    l_len = len(lst)\n",
    "    if l_len == 0:\n",
    "        raise ValueError\n",
    "    elif l_len == 1:\n",
    "        return lst\n",
    "    elif l_len == 2:\n",
    "        if lst[0] <= lst[1]:\n",
    "            return lst\n",
    "        elif lst[0] > lst[1]:\n",
    "            lst[0], lst[1] = lst[1], lst[0]\n",
    "            return lst\n",
    "    else:\n",
    "        l_left = lst[:l_len//2]\n",
    "        l_right = lst[l_len//2:]\n",
    "        return division(l_left), division(l_right)\n",
    "\n",
    "def fusion(l_left,l_right):\n",
    "#eles qui vont être incrémentés dans chaque sous-liste\n",
    "    index_l_left = 0\n",
    "    index_l_right= 0  \n",
    "    l_left2 = len(l_left)\n",
    "    l_right2 = len(l_right)\n",
    "    list_fusion = []\n",
    "    while index_l_left<l_left2 and index_l_right<l_right2:\n",
    "        if l_left[index_l_left] < l_right[index_l_right]:\n",
    "            list_fusion.append(l_left[index_l_left])\n",
    "            index_l_left += 1\n",
    "        else:\n",
    "            list_fusion.append(l_right[index_l_right])\n",
    "            index_l_right += 1\n",
    "   \n",
    "    if l_left:\n",
    "        list_fusion.extend(l_left2[index_l_left:])\n",
    "    if l_right:\n",
    "        list_fusion.extend(l_right2[index_l_right:])\n",
    "    return list_fusion\n",
    "\n",
    "\n",
    "lst = [11, 222, 3, 899, 24, 5, 46, 67]\n",
    "print(division(lst))"
   ]
  },
  {
   "cell_type": "code",
   "execution_count": 1,
   "metadata": {},
   "outputs": [
    {
     "name": "stdout",
     "output_type": "stream",
     "text": [
      "(([11, 222], [3, 899]), ([5, 24], [46, 67]))\n"
     ]
    }
   ],
   "source": [
    " def compare(lst):\n",
    "        final_lst = []\n",
    "        if division(l_left[0]) < division(l_right[0]):\n",
    "            final_lst.append(l_left[0])\n",
    "        elif division(l_left[0]) > division(l_right[0]):\n",
    "            final_lst.append(l_right[0])\n",
    "        else:\n",
    "            final_lst.append(l_left[0], l_right[0])\n",
    "            return compare(l_left,l_right)\n",
    "        \n",
    "\n",
    "lst = [11, 222, 3, 899, 24, 5, 46, 67]\n",
    "lst_trie = division(lst)\n",
    "print(lst_trie)"
   ]
  },
  {
   "cell_type": "code",
   "execution_count": null,
   "metadata": {},
   "outputs": [],
   "source": []
  }
 ],
 "metadata": {
  "kernelspec": {
   "display_name": "Python 3",
   "language": "python",
   "name": "python3"
  },
  "language_info": {
   "codemirror_mode": {
    "name": "ipython",
    "version": 3
   },
   "file_extension": ".py",
   "mimetype": "text/x-python",
   "name": "python",
   "nbconvert_exporter": "python",
   "pygments_lexer": "ipython3",
   "version": "3.8.5"
  }
 },
 "nbformat": 4,
 "nbformat_minor": 4
}
